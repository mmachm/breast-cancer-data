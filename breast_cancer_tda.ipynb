{
 "cells": [
  {
   "cell_type": "code",
   "execution_count": null,
   "metadata": {},
   "outputs": [],
   "source": [
    "import numpy\n",
    "import kmapper as km\n",
    "from breast_cancer_data import data as full_data\n",
    "from sklearn import datasets\n",
    "from tools.reduce_dimensions import reduce_dimensions, TSNE\n",
    "from sklearn import cluster\n",
    "\n",
    "mapper = km.KeplerMapper(verbose=1)\n",
    "\n",
    "# Fit to and transform the data\n",
    "diagnosis = full_data[\"diagnosis\"].replace(\"M\", 1).replace(\"B\", 0)\n",
    "print(diagnosis)\n",
    "\n",
    "data = full_data.drop([\"diagnosis\", \"cluster\"], axis=1)\n",
    "projected_data = mapper.project(data, projection=TSNE(n_components=2, perplexity=20))\n",
    "\n",
    "print(projected_data)\n",
    "# Create dictionary called 'graph' with nodes, edges and meta-information\n",
    "graph = mapper.map(projected_data, \n",
    "                   data_numeric, \n",
    "                   clusterer=cluster.DBSCAN(eps=50, min_samples=3), \n",
    "                   cover=km.Cover(n_cubes=14))\n",
    "\n",
    "# Visualize it\n",
    "mapper.visualize(graph, \n",
    "                 path_html=\"breast.html\",\n",
    "                 title=\"breast_cancer(n_samples=568)\",\n",
    "                 color_values=diagnosis,\n",
    "                 color_function_name=\"mean\")\n",
    "\n"
   ]
  },
  {
   "cell_type": "code",
   "execution_count": null,
   "metadata": {},
   "outputs": [],
   "source": []
  },
  {
   "cell_type": "code",
   "execution_count": null,
   "metadata": {},
   "outputs": [],
   "source": []
  }
 ],
 "metadata": {
  "kernelspec": {
   "display_name": "datascience",
   "language": "python",
   "name": "datascience"
  },
  "language_info": {
   "codemirror_mode": {
    "name": "ipython",
    "version": 3
   },
   "file_extension": ".py",
   "mimetype": "text/x-python",
   "name": "python",
   "nbconvert_exporter": "python",
   "pygments_lexer": "ipython3",
   "version": "3.8.8"
  }
 },
 "nbformat": 4,
 "nbformat_minor": 2
}
